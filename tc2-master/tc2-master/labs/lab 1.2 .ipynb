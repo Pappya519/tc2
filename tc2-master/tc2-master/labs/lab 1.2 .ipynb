{
 "cells": [
  {
   "cell_type": "code",
   "execution_count": 1,
   "id": "4885bc4f",
   "metadata": {},
   "outputs": [
    {
     "data": {
      "text/html": [
       "<div>\n",
       "<style scoped>\n",
       "    .dataframe tbody tr th:only-of-type {\n",
       "        vertical-align: middle;\n",
       "    }\n",
       "\n",
       "    .dataframe tbody tr th {\n",
       "        vertical-align: top;\n",
       "    }\n",
       "\n",
       "    .dataframe thead th {\n",
       "        text-align: right;\n",
       "    }\n",
       "</style>\n",
       "<table border=\"1\" class=\"dataframe\">\n",
       "  <thead>\n",
       "    <tr style=\"text-align: right;\">\n",
       "      <th></th>\n",
       "      <th>Gender</th>\n",
       "      <th>Age</th>\n",
       "      <th>Income</th>\n",
       "      <th>Department</th>\n",
       "      <th>Satisfaction</th>\n",
       "    </tr>\n",
       "  </thead>\n",
       "  <tbody>\n",
       "    <tr>\n",
       "      <th>0</th>\n",
       "      <td>Male</td>\n",
       "      <td>25</td>\n",
       "      <td>50000</td>\n",
       "      <td>HR</td>\n",
       "      <td>4</td>\n",
       "    </tr>\n",
       "    <tr>\n",
       "      <th>1</th>\n",
       "      <td>Female</td>\n",
       "      <td>30</td>\n",
       "      <td>60000</td>\n",
       "      <td>Finance</td>\n",
       "      <td>3</td>\n",
       "    </tr>\n",
       "    <tr>\n",
       "      <th>2</th>\n",
       "      <td>Female</td>\n",
       "      <td>35</td>\n",
       "      <td>65000</td>\n",
       "      <td>IT</td>\n",
       "      <td>5</td>\n",
       "    </tr>\n",
       "    <tr>\n",
       "      <th>3</th>\n",
       "      <td>Male</td>\n",
       "      <td>40</td>\n",
       "      <td>70000</td>\n",
       "      <td>HR</td>\n",
       "      <td>4</td>\n",
       "    </tr>\n",
       "    <tr>\n",
       "      <th>4</th>\n",
       "      <td>Female</td>\n",
       "      <td>45</td>\n",
       "      <td>72000</td>\n",
       "      <td>Finance</td>\n",
       "      <td>2</td>\n",
       "    </tr>\n",
       "  </tbody>\n",
       "</table>\n",
       "</div>"
      ],
      "text/plain": [
       "   Gender  Age  Income Department  Satisfaction\n",
       "0    Male   25   50000         HR             4\n",
       "1  Female   30   60000    Finance             3\n",
       "2  Female   35   65000         IT             5\n",
       "3    Male   40   70000         HR             4\n",
       "4  Female   45   72000    Finance             2"
      ]
     },
     "execution_count": 1,
     "metadata": {},
     "output_type": "execute_result"
    }
   ],
   "source": [
    "# Import necessary libraries\n",
    "import pandas as pd\n",
    "import numpy as np\n",
    "\n",
    "# Create a dataset\n",
    "data = {\n",
    "    'Gender': ['Male', 'Female', 'Female', 'Male', 'Female'],\n",
    "    'Age': [25, 30, 35, 40, 45],\n",
    "    'Income': [50000, 60000, 65000, 70000, 72000],\n",
    "    'Department': ['HR', 'Finance', 'IT', 'HR', 'Finance'],\n",
    "    'Satisfaction': [4, 3, 5, 4, 2]\n",
    "}\n",
    "df = pd.DataFrame(data)\n",
    "\n",
    "# Display the dataset\n",
    "df.head()\n"
   ]
  },
  {
   "cell_type": "code",
   "execution_count": 2,
   "id": "57c8ad4d",
   "metadata": {},
   "outputs": [
    {
     "data": {
      "text/plain": [
       "(['Gender', 'Department'], ['Age', 'Income', 'Satisfaction'])"
      ]
     },
     "execution_count": 2,
     "metadata": {},
     "output_type": "execute_result"
    }
   ],
   "source": [
    "# Identify categorical and numerical variables\n",
    "categorical_vars = df.select_dtypes(include='object').columns.tolist()\n",
    "numerical_vars = df.select_dtypes(include=['int64', 'float64']).columns.tolist()\n",
    "\n",
    "categorical_vars, numerical_vars\n"
   ]
  },
  {
   "cell_type": "code",
   "execution_count": 3,
   "id": "1bcf079a",
   "metadata": {},
   "outputs": [
    {
     "data": {
      "text/html": [
       "<div>\n",
       "<style scoped>\n",
       "    .dataframe tbody tr th:only-of-type {\n",
       "        vertical-align: middle;\n",
       "    }\n",
       "\n",
       "    .dataframe tbody tr th {\n",
       "        vertical-align: top;\n",
       "    }\n",
       "\n",
       "    .dataframe thead th {\n",
       "        text-align: right;\n",
       "    }\n",
       "</style>\n",
       "<table border=\"1\" class=\"dataframe\">\n",
       "  <thead>\n",
       "    <tr style=\"text-align: right;\">\n",
       "      <th>Department</th>\n",
       "      <th>Finance</th>\n",
       "      <th>HR</th>\n",
       "      <th>IT</th>\n",
       "    </tr>\n",
       "    <tr>\n",
       "      <th>Gender</th>\n",
       "      <th></th>\n",
       "      <th></th>\n",
       "      <th></th>\n",
       "    </tr>\n",
       "  </thead>\n",
       "  <tbody>\n",
       "    <tr>\n",
       "      <th>Female</th>\n",
       "      <td>2</td>\n",
       "      <td>0</td>\n",
       "      <td>1</td>\n",
       "    </tr>\n",
       "    <tr>\n",
       "      <th>Male</th>\n",
       "      <td>0</td>\n",
       "      <td>2</td>\n",
       "      <td>0</td>\n",
       "    </tr>\n",
       "  </tbody>\n",
       "</table>\n",
       "</div>"
      ],
      "text/plain": [
       "Department  Finance  HR  IT\n",
       "Gender                     \n",
       "Female            2   0   1\n",
       "Male              0   2   0"
      ]
     },
     "execution_count": 3,
     "metadata": {},
     "output_type": "execute_result"
    }
   ],
   "source": [
    "# Create a contingency table between Gender and Department\n",
    "contingency_table = pd.crosstab(df['Gender'], df['Department'])\n",
    "contingency_table\n"
   ]
  },
  {
   "cell_type": "code",
   "execution_count": 4,
   "id": "af4c948b",
   "metadata": {},
   "outputs": [
    {
     "data": {
      "text/html": [
       "<div>\n",
       "<style scoped>\n",
       "    .dataframe tbody tr th:only-of-type {\n",
       "        vertical-align: middle;\n",
       "    }\n",
       "\n",
       "    .dataframe tbody tr th {\n",
       "        vertical-align: top;\n",
       "    }\n",
       "\n",
       "    .dataframe thead th {\n",
       "        text-align: right;\n",
       "    }\n",
       "</style>\n",
       "<table border=\"1\" class=\"dataframe\">\n",
       "  <thead>\n",
       "    <tr style=\"text-align: right;\">\n",
       "      <th></th>\n",
       "      <th>Mean</th>\n",
       "      <th>Median</th>\n",
       "      <th>Mode</th>\n",
       "      <th>Variance</th>\n",
       "      <th>Standard Deviation</th>\n",
       "      <th>Quartile Range</th>\n",
       "    </tr>\n",
       "  </thead>\n",
       "  <tbody>\n",
       "    <tr>\n",
       "      <th>Age</th>\n",
       "      <td>35.0</td>\n",
       "      <td>35.0</td>\n",
       "      <td>25.0</td>\n",
       "      <td>62.5</td>\n",
       "      <td>7.905694</td>\n",
       "      <td>10.0</td>\n",
       "    </tr>\n",
       "    <tr>\n",
       "      <th>Income</th>\n",
       "      <td>63400.0</td>\n",
       "      <td>65000.0</td>\n",
       "      <td>50000.0</td>\n",
       "      <td>77800000.0</td>\n",
       "      <td>8820.430828</td>\n",
       "      <td>10000.0</td>\n",
       "    </tr>\n",
       "    <tr>\n",
       "      <th>Satisfaction</th>\n",
       "      <td>3.6</td>\n",
       "      <td>4.0</td>\n",
       "      <td>4.0</td>\n",
       "      <td>1.3</td>\n",
       "      <td>1.140175</td>\n",
       "      <td>1.0</td>\n",
       "    </tr>\n",
       "  </tbody>\n",
       "</table>\n",
       "</div>"
      ],
      "text/plain": [
       "                 Mean   Median     Mode    Variance  Standard Deviation  \\\n",
       "Age              35.0     35.0     25.0        62.5            7.905694   \n",
       "Income        63400.0  65000.0  50000.0  77800000.0         8820.430828   \n",
       "Satisfaction      3.6      4.0      4.0         1.3            1.140175   \n",
       "\n",
       "              Quartile Range  \n",
       "Age                     10.0  \n",
       "Income               10000.0  \n",
       "Satisfaction             1.0  "
      ]
     },
     "execution_count": 4,
     "metadata": {},
     "output_type": "execute_result"
    }
   ],
   "source": [
    "# Compute statistics for numerical variables\n",
    "stats = {\n",
    "    \"Mean\": df[numerical_vars].mean(),\n",
    "    \"Median\": df[numerical_vars].median(),\n",
    "    \"Mode\": df[numerical_vars].mode().iloc[0],\n",
    "    \"Variance\": df[numerical_vars].var(),\n",
    "    \"Standard Deviation\": df[numerical_vars].std(),\n",
    "    \"Quartile Range\": df[numerical_vars].quantile(0.75) - df[numerical_vars].quantile(0.25)\n",
    "}\n",
    "\n",
    "# Convert to a DataFrame for better display\n",
    "stats_df = pd.DataFrame(stats)\n",
    "stats_df\n"
   ]
  },
  {
   "cell_type": "code",
   "execution_count": 5,
   "id": "60df6bd1",
   "metadata": {},
   "outputs": [
    {
     "data": {
      "text/plain": [
       "{'Gender': 'Binary', 'Department': 'Nominal', 'Satisfaction': 'Ordinal'}"
      ]
     },
     "execution_count": 5,
     "metadata": {},
     "output_type": "execute_result"
    }
   ],
   "source": [
    "# Categorize the categorical variables into binary, nominal, or ordinal\n",
    "categorical_types = {\n",
    "    'Gender': 'Binary',  # Male/Female\n",
    "    'Department': 'Nominal',  # HR, Finance, IT\n",
    "    'Satisfaction': 'Ordinal'  # Satisfaction levels are ranked\n",
    "}\n",
    "categorical_types\n"
   ]
  },
  {
   "cell_type": "code",
   "execution_count": null,
   "id": "76ce88d4",
   "metadata": {},
   "outputs": [],
   "source": []
  }
 ],
 "metadata": {
  "kernelspec": {
   "display_name": "Python 3 (ipykernel)",
   "language": "python",
   "name": "python3"
  },
  "language_info": {
   "codemirror_mode": {
    "name": "ipython",
    "version": 3
   },
   "file_extension": ".py",
   "mimetype": "text/x-python",
   "name": "python",
   "nbconvert_exporter": "python",
   "pygments_lexer": "ipython3",
   "version": "3.9.12"
  }
 },
 "nbformat": 4,
 "nbformat_minor": 5
}
