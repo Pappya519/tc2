{
 "cells": [
  {
   "cell_type": "code",
   "execution_count": 2,
   "id": "816a4606",
   "metadata": {},
   "outputs": [
    {
     "data": {
      "text/html": [
       "<div>\n",
       "<style scoped>\n",
       "    .dataframe tbody tr th:only-of-type {\n",
       "        vertical-align: middle;\n",
       "    }\n",
       "\n",
       "    .dataframe tbody tr th {\n",
       "        vertical-align: top;\n",
       "    }\n",
       "\n",
       "    .dataframe thead th {\n",
       "        text-align: right;\n",
       "    }\n",
       "</style>\n",
       "<table border=\"1\" class=\"dataframe\">\n",
       "  <thead>\n",
       "    <tr style=\"text-align: right;\">\n",
       "      <th></th>\n",
       "      <th>Id</th>\n",
       "      <th>SepalLengthCm</th>\n",
       "      <th>SepalWidthCm</th>\n",
       "      <th>PetalLengthCm</th>\n",
       "      <th>PetalWidthCm</th>\n",
       "      <th>Species</th>\n",
       "    </tr>\n",
       "  </thead>\n",
       "  <tbody>\n",
       "    <tr>\n",
       "      <th>0</th>\n",
       "      <td>1</td>\n",
       "      <td>5.1</td>\n",
       "      <td>3.5</td>\n",
       "      <td>1.4</td>\n",
       "      <td>0.2</td>\n",
       "      <td>Iris-setosa</td>\n",
       "    </tr>\n",
       "    <tr>\n",
       "      <th>1</th>\n",
       "      <td>2</td>\n",
       "      <td>4.9</td>\n",
       "      <td>3.0</td>\n",
       "      <td>1.4</td>\n",
       "      <td>0.2</td>\n",
       "      <td>Iris-setosa</td>\n",
       "    </tr>\n",
       "    <tr>\n",
       "      <th>2</th>\n",
       "      <td>3</td>\n",
       "      <td>4.7</td>\n",
       "      <td>3.2</td>\n",
       "      <td>1.3</td>\n",
       "      <td>0.2</td>\n",
       "      <td>Iris-setosa</td>\n",
       "    </tr>\n",
       "    <tr>\n",
       "      <th>3</th>\n",
       "      <td>4</td>\n",
       "      <td>4.6</td>\n",
       "      <td>3.1</td>\n",
       "      <td>1.5</td>\n",
       "      <td>0.2</td>\n",
       "      <td>Iris-setosa</td>\n",
       "    </tr>\n",
       "    <tr>\n",
       "      <th>4</th>\n",
       "      <td>5</td>\n",
       "      <td>5.0</td>\n",
       "      <td>3.6</td>\n",
       "      <td>1.4</td>\n",
       "      <td>0.2</td>\n",
       "      <td>Iris-setosa</td>\n",
       "    </tr>\n",
       "  </tbody>\n",
       "</table>\n",
       "</div>"
      ],
      "text/plain": [
       "   Id  SepalLengthCm  SepalWidthCm  PetalLengthCm  PetalWidthCm      Species\n",
       "0   1            5.1           3.5            1.4           0.2  Iris-setosa\n",
       "1   2            4.9           3.0            1.4           0.2  Iris-setosa\n",
       "2   3            4.7           3.2            1.3           0.2  Iris-setosa\n",
       "3   4            4.6           3.1            1.5           0.2  Iris-setosa\n",
       "4   5            5.0           3.6            1.4           0.2  Iris-setosa"
      ]
     },
     "execution_count": 2,
     "metadata": {},
     "output_type": "execute_result"
    }
   ],
   "source": [
    "# Importing necessary libraries\n",
    "import pandas as pd\n",
    "from scipy.stats import ttest_ind, f_oneway, chi2_contingency\n",
    "\n",
    "# Load the uploaded CSV file\n",
    "file_path = '/mnt/data/iris.csv'\n",
    "iris_data = pd.read_csv('iris.csv')\n",
    "\n",
    "# Display the first few rows to understand the data structure\n",
    "iris_data.head()\n"
   ]
  },
  {
   "cell_type": "code",
   "execution_count": 8,
   "id": "ba3468ad",
   "metadata": {},
   "outputs": [
    {
     "name": "stdout",
     "output_type": "stream",
     "text": [
      "Setosa - Mean: 5.005999999999999 Std Dev: 0.3524896872134512\n",
      "Versicolor - Mean: 5.936 Std Dev: 0.5161711470638635\n",
      "t-statistic: -10.52098626754911 p-value: 8.985235037487077e-18\n",
      "Reject the null hypothesis: There is a significant difference in sepal lengths.\n"
     ]
    }
   ],
   "source": [
    "# Step 1: Select data for the two species\n",
    "setosa_sepal_length = iris_data[iris_data['Species'] == 'Iris-setosa']['SepalLengthCm']\n",
    "versicolor_sepal_length = iris_data[iris_data['Species'] == 'Iris-versicolor']['SepalLengthCm']\n",
    "\n",
    "# Step 2: Calculate means and standard deviations\n",
    "setosa_mean = setosa_sepal_length.mean()\n",
    "setosa_std = setosa_sepal_length.std()\n",
    "versicolor_mean = versicolor_sepal_length.mean()\n",
    "versicolor_std = versicolor_sepal_length.std()\n",
    "\n",
    "print(\"Setosa - Mean:\", setosa_mean, \"Std Dev:\", setosa_std)\n",
    "print(\"Versicolor - Mean:\", versicolor_mean, \"Std Dev:\", versicolor_std)\n",
    "\n",
    "# Step 3: Perform two-sample t-test\n",
    "t_stat, p_value = ttest_ind(setosa_sepal_length, versicolor_sepal_length)\n",
    "\n",
    "# Step 4: Output t-statistic and p-value\n",
    "print(\"t-statistic:\", t_stat, \"p-value:\", p_value)\n",
    "\n",
    "# Step 5: Interpret the result\n",
    "alpha = 0.05\n",
    "if p_value < alpha:\n",
    "    print(\"Reject the null hypothesis: There is a significant difference in sepal lengths.\")\n",
    "else:\n",
    "    print(\"Fail to reject the null hypothesis: No significant difference in sepal lengths.\")\n"
   ]
  },
  {
   "cell_type": "code",
   "execution_count": 9,
   "id": "e78cbf46",
   "metadata": {},
   "outputs": [
    {
     "name": "stdout",
     "output_type": "stream",
     "text": [
      "Setosa - Mean: 5.005999999999999 Std Dev: 0.3524896872134512\n",
      "Versicolor - Mean: 5.936 Std Dev: 0.5161711470638635\n",
      "Virginica - Mean: 6.587999999999998 Std Dev: 0.635879593274432\n",
      "F-statistic: 119.26450218450468 p-value: 1.6696691907693826e-31\n",
      "Reject the null hypothesis: At least one species has a different mean sepal length.\n"
     ]
    }
   ],
   "source": [
    "#ANOVA - To test if there is a significant difference in the sepal lengths across all three species (setosa, versicolor,\n",
    "#and virginica)\n",
    "# Step 1: Group data by species\n",
    "setosa = iris_data[iris_data['Species'] == 'Iris-setosa']['SepalLengthCm']\n",
    "versicolor = iris_data[iris_data['Species'] == 'Iris-versicolor']['SepalLengthCm']\n",
    "virginica = iris_data[iris_data['Species'] == 'Iris-virginica']['SepalLengthCm']\n",
    "\n",
    "# Step 2: Perform one-way ANOVA\n",
    "f_stat, p_value = f_oneway(setosa, versicolor, virginica)\n",
    "\n",
    "# Output means and standard deviations\n",
    "print(\"Setosa - Mean:\", setosa.mean(), \"Std Dev:\", setosa.std())\n",
    "print(\"Versicolor - Mean:\", versicolor.mean(), \"Std Dev:\", versicolor.std())\n",
    "print(\"Virginica - Mean:\", virginica.mean(), \"Std Dev:\", virginica.std())\n",
    "\n",
    "# Step 3: Output F-statistic and p-value\n",
    "print(\"F-statistic:\", f_stat, \"p-value:\", p_value)\n",
    "\n",
    "# Step 4: Interpret the result\n",
    "alpha = 0.05\n",
    "if p_value < alpha:\n",
    "    print(\"Reject the null hypothesis: At least one species has a different mean sepal length.\")\n",
    "else:\n",
    "    print(\"Fail to reject the null hypothesis: No significant difference in sepal lengths.\")\n"
   ]
  },
  {
   "cell_type": "code",
   "execution_count": 7,
   "id": "8c52d9f0",
   "metadata": {},
   "outputs": [
    {
     "name": "stdout",
     "output_type": "stream",
     "text": [
      "Index(['Id', 'SepalLengthCm', 'SepalWidthCm', 'PetalLengthCm', 'PetalWidthCm',\n",
      "       'Species'],\n",
      "      dtype='object')\n"
     ]
    }
   ],
   "source": [
    "# Inspect column names to identify the correct name for 'species'\n",
    "print(iris_data.columns)\n"
   ]
  },
  {
   "cell_type": "code",
   "execution_count": 11,
   "id": "37aee138",
   "metadata": {},
   "outputs": [
    {
     "name": "stdout",
     "output_type": "stream",
     "text": [
      "Contingency Table:\n",
      "SepalWidthCategory  Narrow  Medium  Wide  Very Wide\n",
      "Species                                            \n",
      "Iris-setosa              1       7    27         15\n",
      "Iris-versicolor         13      29     8          0\n",
      "Iris-virginica           5      28    14          3\n",
      "Chi-square Statistic: 58.8092440923738\n",
      "p-value: 7.853326672657147e-11\n",
      "Reject the null hypothesis: There is a relationship between species and sepal width categories.\n"
     ]
    }
   ],
   "source": [
    "#chi square - To test whether there is a relationship between species and different categories of sepal width (e.g.,\n",
    "#narrow, medium, wide).\n",
    "\n",
    "# Step 1: Categorize sepal widths\n",
    "bins = [0, 2.5, 3.0, 3.5, 4.5]  # Define bins for sepal widths\n",
    "labels = ['Narrow', 'Medium', 'Wide', 'Very Wide']  # Corrected: one fewer label than bins\n",
    "\n",
    "iris_data['SepalWidthCategory'] = pd.cut(iris_data['SepalWidthCm'], bins=bins, labels=labels)\n",
    "\n",
    "# Step 2: Create contingency table\n",
    "contingency_table = pd.crosstab(iris_data['Species'], iris_data['SepalWidthCategory'])\n",
    "\n",
    "print(\"Contingency Table:\")\n",
    "print(contingency_table)\n",
    "\n",
    "# Step 3: Perform chi-square test\n",
    "chi2_stat, p_value, dof, expected = chi2_contingency(contingency_table)\n",
    "\n",
    "# Step 4: Output chi-square statistic and p-value\n",
    "print(\"Chi-square Statistic:\", chi2_stat)\n",
    "print(\"p-value:\", p_value)\n",
    "\n",
    "# Step 5: Interpret the result\n",
    "alpha = 0.05\n",
    "if p_value < alpha:\n",
    "    print(\"Reject the null hypothesis: There is a relationship between species and sepal width categories.\")\n",
    "else:\n",
    "    print(\"Fail to reject the null hypothesis: No relationship between species and sepal width categories.\")\n"
   ]
  },
  {
   "cell_type": "code",
   "execution_count": null,
   "id": "dae2f42d",
   "metadata": {},
   "outputs": [],
   "source": []
  }
 ],
 "metadata": {
  "kernelspec": {
   "display_name": "Python 3 (ipykernel)",
   "language": "python",
   "name": "python3"
  },
  "language_info": {
   "codemirror_mode": {
    "name": "ipython",
    "version": 3
   },
   "file_extension": ".py",
   "mimetype": "text/x-python",
   "name": "python",
   "nbconvert_exporter": "python",
   "pygments_lexer": "ipython3",
   "version": "3.9.12"
  }
 },
 "nbformat": 4,
 "nbformat_minor": 5
}
