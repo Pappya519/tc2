{
 "cells": [
  {
   "cell_type": "code",
   "execution_count": 1,
   "id": "14db1cca",
   "metadata": {},
   "outputs": [
    {
     "name": "stdout",
     "output_type": "stream",
     "text": [
      "                                 id  price_date  price_off_peak_var  \\\n",
      "0  038af19179925da21a25619c5a24b745  2015-01-01            0.151367   \n",
      "1  038af19179925da21a25619c5a24b745  2015-02-01            0.151367   \n",
      "2  038af19179925da21a25619c5a24b745  2015-03-01            0.151367   \n",
      "3  038af19179925da21a25619c5a24b745  2015-04-01            0.149626   \n",
      "4  038af19179925da21a25619c5a24b745  2015-05-01            0.149626   \n",
      "\n",
      "   price_peak_var  price_mid_peak_var  price_off_peak_fix  price_peak_fix  \\\n",
      "0             0.0                 0.0           44.266931             0.0   \n",
      "1             0.0                 0.0           44.266931             0.0   \n",
      "2             0.0                 0.0           44.266931             0.0   \n",
      "3             0.0                 0.0           44.266931             0.0   \n",
      "4             0.0                 0.0           44.266931             0.0   \n",
      "\n",
      "   price_mid_peak_fix  \n",
      "0                 0.0  \n",
      "1                 0.0  \n",
      "2                 0.0  \n",
      "3                 0.0  \n",
      "4                 0.0  \n"
     ]
    }
   ],
   "source": [
    "import pandas as pd\n",
    "data = pd.read_csv('price_data.csv')\n",
    "print(data.head())\n"
   ]
  },
  {
   "cell_type": "code",
   "execution_count": 2,
   "id": "5ac26d90",
   "metadata": {},
   "outputs": [
    {
     "name": "stdout",
     "output_type": "stream",
     "text": [
      "price_date                        2015-01-01  2015-02-01  2015-03-01  \\\n",
      "id                                                                     \n",
      "0002203ffbb812588b632b9e628cc38d           1           1           1   \n",
      "0004351ebdd665e6ee664792efc4fd13           1           1           1   \n",
      "0010bcc39e42b3c2131ed2ce55246e3c           1           1           1   \n",
      "0010ee3855fdea87602a5b7aba8e42de           1           1           1   \n",
      "00114d74e963e47177db89bc70108537           1           1           1   \n",
      "...                                      ...         ...         ...   \n",
      "ffef185810e44254c3a4c6395e6b4d8a           1           1           1   \n",
      "fffac626da707b1b5ab11e8431a4d0a2           1           1           1   \n",
      "fffc0cacd305dd51f316424bbb08d1bd           1           1           1   \n",
      "fffe4f5646aa39c7f97f95ae2679ce64           1           1           1   \n",
      "ffff7fa066f1fb305ae285bb03bf325a           1           1           1   \n",
      "\n",
      "price_date                        2015-04-01  2015-05-01  2015-06-01  \\\n",
      "id                                                                     \n",
      "0002203ffbb812588b632b9e628cc38d           1           1           1   \n",
      "0004351ebdd665e6ee664792efc4fd13           1           1           1   \n",
      "0010bcc39e42b3c2131ed2ce55246e3c           1           1           1   \n",
      "0010ee3855fdea87602a5b7aba8e42de           1           1           1   \n",
      "00114d74e963e47177db89bc70108537           1           1           1   \n",
      "...                                      ...         ...         ...   \n",
      "ffef185810e44254c3a4c6395e6b4d8a           1           1           1   \n",
      "fffac626da707b1b5ab11e8431a4d0a2           1           1           1   \n",
      "fffc0cacd305dd51f316424bbb08d1bd           1           1           1   \n",
      "fffe4f5646aa39c7f97f95ae2679ce64           1           1           1   \n",
      "ffff7fa066f1fb305ae285bb03bf325a           1           1           1   \n",
      "\n",
      "price_date                        2015-07-01  2015-08-01  2015-09-01  \\\n",
      "id                                                                     \n",
      "0002203ffbb812588b632b9e628cc38d           1           1           1   \n",
      "0004351ebdd665e6ee664792efc4fd13           1           1           1   \n",
      "0010bcc39e42b3c2131ed2ce55246e3c           1           1           1   \n",
      "0010ee3855fdea87602a5b7aba8e42de           1           1           1   \n",
      "00114d74e963e47177db89bc70108537           1           1           1   \n",
      "...                                      ...         ...         ...   \n",
      "ffef185810e44254c3a4c6395e6b4d8a           1           1           1   \n",
      "fffac626da707b1b5ab11e8431a4d0a2           1           1           1   \n",
      "fffc0cacd305dd51f316424bbb08d1bd           1           1           1   \n",
      "fffe4f5646aa39c7f97f95ae2679ce64           1           1           1   \n",
      "ffff7fa066f1fb305ae285bb03bf325a           1           1           1   \n",
      "\n",
      "price_date                        2015-10-01  2015-11-01  2015-12-01  \n",
      "id                                                                    \n",
      "0002203ffbb812588b632b9e628cc38d           1           1           1  \n",
      "0004351ebdd665e6ee664792efc4fd13           1           1           1  \n",
      "0010bcc39e42b3c2131ed2ce55246e3c           1           1           1  \n",
      "0010ee3855fdea87602a5b7aba8e42de           1           1           1  \n",
      "00114d74e963e47177db89bc70108537           1           1           1  \n",
      "...                                      ...         ...         ...  \n",
      "ffef185810e44254c3a4c6395e6b4d8a           1           1           1  \n",
      "fffac626da707b1b5ab11e8431a4d0a2           1           1           1  \n",
      "fffc0cacd305dd51f316424bbb08d1bd           1           1           1  \n",
      "fffe4f5646aa39c7f97f95ae2679ce64           1           1           1  \n",
      "ffff7fa066f1fb305ae285bb03bf325a           1           1           1  \n",
      "\n",
      "[16096 rows x 12 columns]\n"
     ]
    }
   ],
   "source": [
    "contingency_table = pd.crosstab(data['id'], data['price_date'])\n",
    "print(contingency_table)\n"
   ]
  },
  {
   "cell_type": "code",
   "execution_count": 3,
   "id": "1c029777",
   "metadata": {},
   "outputs": [
    {
     "name": "stdout",
     "output_type": "stream",
     "text": [
      "Categorical Variables: Index(['id', 'price_date'], dtype='object')\n",
      "Numerical Variables: Index(['price_off_peak_var', 'price_peak_var', 'price_mid_peak_var',\n",
      "       'price_off_peak_fix', 'price_peak_fix', 'price_mid_peak_fix'],\n",
      "      dtype='object')\n"
     ]
    }
   ],
   "source": [
    "categorical_cols = data.select_dtypes(include=['object']).columns\n",
    "numerical_cols = data.select_dtypes(include=['number']).columns\n",
    "print(\"Categorical Variables:\", categorical_cols)\n",
    "print(\"Numerical Variables:\", numerical_cols)\n"
   ]
  },
  {
   "cell_type": "code",
   "execution_count": 4,
   "id": "dc940a28",
   "metadata": {},
   "outputs": [
    {
     "name": "stdout",
     "output_type": "stream",
     "text": [
      "Mean:\n",
      " price_off_peak_var     0.141027\n",
      "price_peak_var         0.054630\n",
      "price_mid_peak_var     0.030496\n",
      "price_off_peak_fix    43.334477\n",
      "price_peak_fix        10.622875\n",
      "price_mid_peak_fix     6.409984\n",
      "dtype: float64\n",
      "Median:\n",
      " price_off_peak_var     0.146033\n",
      "price_peak_var         0.085483\n",
      "price_mid_peak_var     0.000000\n",
      "price_off_peak_fix    44.266930\n",
      "price_peak_fix         0.000000\n",
      "price_mid_peak_fix     0.000000\n",
      "dtype: float64\n",
      "Mode:\n",
      "    price_off_peak_var  price_peak_var  price_mid_peak_var  price_off_peak_fix  \\\n",
      "0            0.152445             0.0                 0.0            44.44471   \n",
      "\n",
      "   price_peak_fix  price_mid_peak_fix  \n",
      "0             0.0                 0.0  \n",
      "Variance:\n",
      " price_off_peak_var      0.000627\n",
      "price_peak_var          0.002492\n",
      "price_mid_peak_var      0.001318\n",
      "price_off_peak_fix     29.271309\n",
      "price_peak_fix        164.914264\n",
      "price_mid_peak_fix     60.428734\n",
      "dtype: float64\n",
      "Standard Deviation:\n",
      " price_off_peak_var     0.025032\n",
      "price_peak_var         0.049924\n",
      "price_mid_peak_var     0.036298\n",
      "price_off_peak_fix     5.410297\n",
      "price_peak_fix        12.841895\n",
      "price_mid_peak_fix     7.773592\n",
      "dtype: float64\n",
      "Quartiles:\n",
      "       price_off_peak_var  price_peak_var  price_mid_peak_var  \\\n",
      "0.25            0.125976        0.000000            0.000000   \n",
      "0.50            0.146033        0.085483            0.000000   \n",
      "0.75            0.151635        0.101673            0.072558   \n",
      "\n",
      "      price_off_peak_fix  price_peak_fix  price_mid_peak_fix  \n",
      "0.25           40.728885        0.000000            0.000000  \n",
      "0.50           44.266930        0.000000            0.000000  \n",
      "0.75           44.444710       24.339581           16.226389  \n"
     ]
    }
   ],
   "source": [
    "mean = data[numerical_cols].mean()\n",
    "median = data[numerical_cols].median()\n",
    "mode = data[numerical_cols].mode()\n",
    "variance = data[numerical_cols].var()\n",
    "std_dev = data[numerical_cols].std()\n",
    "quartiles = data[numerical_cols].quantile([0.25, 0.5, 0.75])\n",
    "\n",
    "print(\"Mean:\\n\", mean)\n",
    "print(\"Median:\\n\", median)\n",
    "print(\"Mode:\\n\", mode)\n",
    "print(\"Variance:\\n\", variance)\n",
    "print(\"Standard Deviation:\\n\", std_dev)\n",
    "print(\"Quartiles:\\n\", quartiles)\n"
   ]
  },
  {
   "cell_type": "code",
   "execution_count": null,
   "id": "9a37fd4c",
   "metadata": {},
   "outputs": [],
   "source": []
  }
 ],
 "metadata": {
  "kernelspec": {
   "display_name": "Python 3 (ipykernel)",
   "language": "python",
   "name": "python3"
  },
  "language_info": {
   "codemirror_mode": {
    "name": "ipython",
    "version": 3
   },
   "file_extension": ".py",
   "mimetype": "text/x-python",
   "name": "python",
   "nbconvert_exporter": "python",
   "pygments_lexer": "ipython3",
   "version": "3.9.12"
  }
 },
 "nbformat": 4,
 "nbformat_minor": 5
}
